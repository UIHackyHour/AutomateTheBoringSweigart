{
  "nbformat": 4,
  "nbformat_minor": 0,
  "metadata": {
    "colab": {
      "name": "ABS_Chap_11.ipynb",
      "provenance": [],
      "collapsed_sections": []
    },
    "kernelspec": {
      "name": "python3",
      "display_name": "Python 3",
      "language": "python"
    }
  },
  "cells": [
    {
      "cell_type": "markdown",
      "metadata": {
        "id": "yFCGnmbvZ-4w"
      },
      "source": [
        "# Summary\r\n",
        "Assertions, exceptions, logging, and the debugger are all valuable tools to find and prevent bugs in your program. Assertions with the Python assert statement are a good way to implement “sanity checks” that give you an early warning when a necessary condition doesn’t hold true. Assertions are only for errors that the program shouldn’t try to recover from and should fail fast. Otherwise, you should raise an exception.\r\n",
        "\r\n",
        "An exception can be caught and handled by the try and except statements. The `logging` module is a good way to look into your code while it’s running and is much more convenient to use than the `print()` function because of its different logging levels and ability to log to a text file.\r\n",
        "\r\n",
        "The debugger lets you step through your program one line at a time. Alternatively, you can run your program at normal speed and have the debugger pause execution whenever it reaches a line with a breakpoint set. Using the debugger, you can see the state of any variable’s value at any point during the program’s lifetime."
      ]
    },
    {
      "source": [
        "# Definitions\n",
        "\n",
        "* __Expections__: Errors detected during execution."
      ],
      "cell_type": "markdown",
      "metadata": {}
    },
    {
      "cell_type": "markdown",
      "metadata": {
        "id": "KYGFKG51rYjo"
      },
      "source": [
        "# Packages used in this chapter\r\n",
        "\r\n",
        "* `logging`"
      ]
    },
    {
      "cell_type": "markdown",
      "metadata": {
        "id": "qOFfSWpseaMp"
      },
      "source": [
        "# New functions covered in this chapter\r\n",
        "\r\n",
        "* "
      ]
    },
    {
      "cell_type": "code",
      "execution_count": null,
      "metadata": {},
      "outputs": [],
      "source": [
        "# boxPrint.py\n",
        "\n",
        "def boxPrint(symbol, width, height):\n",
        "    if len(symbol) != 1:\n",
        "        raise Exception('Symbol must be a single character string.')\n",
        "    if width<=2:\n",
        "        raise Exception('Width must be greater than 2.')\n",
        "    if height<= 2:\n",
        "        raise Exception('Height must be greater than 2.')\n",
        "    print(symbol*width)\n",
        "    for i in range(height-2):\n",
        "        print(symbol+(' '*(width-2))+symbol)\n",
        "    print(symbol*width)\n",
        "\n",
        "for sym, w, h in (('*', 4, 4), ('O', 20, 5), ('x', 1, 3), ('ZZ', 3, 3)):\n",
        "    try:\n",
        "        boxPrint(sym,w,h)\n",
        "    except Exception as err:\n",
        "        print('An exception happened: ' + str(err))"
      ]
    },
    {
      "cell_type": "markdown",
      "metadata": {
        "id": "mf0cLewUeF8C"
      },
      "source": []
    }
  ]
}